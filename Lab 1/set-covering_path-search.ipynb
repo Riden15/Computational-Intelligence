{
 "cells": [
  {
   "cell_type": "markdown",
   "source": [
    "# Lab 1: Set Covering\n",
    "---\n",
    "## Path Search"
   ],
   "metadata": {
    "collapsed": false
   },
   "id": "99c982e051dbebe2"
  },
  {
   "cell_type": "markdown",
   "source": [
    "### Description of the problem\n",
    "Given the number of sets ``NUM_SETS`` and the number of elements inside each set ``PROBLEM_SIZE``, determine, if possible, the collection of sets through which all the elements are available.\n",
    "\n",
    "A state is made up of the sets of items that I take and the sets that I don't take. \n",
    "* State=({1,3,5}, {0,2,4,6,7}) -> I'm taking the second array of items from ``SETS``, the fourth and the sixth.\n",
    "* The quality of a solution (the chosen state) is given by the smallest number of taken sets to get all the elements"
   ],
   "metadata": {
    "collapsed": false
   },
   "id": "f4011de8610fc5f4"
  },
  {
   "cell_type": "markdown",
   "source": [
    "### Objectives\n",
    "\n",
    "**1 - Implementation of Search Algorithms**\n",
    "The goal of the project is to find an algorithm that can efficiently solve the Set Covering Problem. \n",
    "\n",
    "**2 - Build a Heuristic Function H for A star**\n",
    "The focus of the laboratory is on the A* search algorithm and therefore on finding a Heuristic Function H.\n",
    "To be sure to find the optimal solution, the heuristic function must be:\n",
    "- Admissible: It never overestimates the cost of reaching the goal, so that $H(n) \\leq H^*(n)$\n",
    "- Consistent: It satisfies the triangle inequality, so that $H(n) \\leq c(n, a, n') + H(n')$"
   ],
   "metadata": {
    "collapsed": false
   },
   "id": "23bf10efeea4c841"
  },
  {
   "cell_type": "markdown",
   "source": [
    "# Code\n",
    "---"
   ],
   "metadata": {
    "collapsed": false
   },
   "id": "7a2444b5bc215bac"
  },
  {
   "cell_type": "markdown",
   "source": [
    "### Imported Libraries"
   ],
   "metadata": {
    "collapsed": false
   },
   "id": "4eb1a896c0754d92"
  },
  {
   "cell_type": "code",
   "execution_count": 1,
   "outputs": [],
   "source": [
    "from random import random, choice, randint\n",
    "from functools import reduce\n",
    "from math import ceil\n",
    "from collections import namedtuple\n",
    "from queue import PriorityQueue, SimpleQueue, LifoQueue\n",
    "import numpy as np\n",
    "from tqdm.auto import tqdm\n",
    "from copy import copy"
   ],
   "metadata": {
    "collapsed": false,
    "ExecuteTime": {
     "end_time": "2023-10-26T12:19:25.398713600Z",
     "start_time": "2023-10-26T12:19:24.974505100Z"
    }
   },
   "id": "5a077583f910454b"
  },
  {
   "cell_type": "markdown",
   "source": [
    "### Problem instance\n",
    "We implement the sets as an array of arrays where one element has a 20% chance of being true. A set indicates which item is inside the set and which is not, if an element of the set has a value of true it means that it is present otherwise not"
   ],
   "metadata": {
    "collapsed": false
   },
   "id": "dd06b41ba4267723"
  },
  {
   "cell_type": "code",
   "execution_count": 16,
   "outputs": [],
   "source": [
    "PROBLEM_SIZE = 50\n",
    "NUM_SETS = 100\n",
    "SETS = tuple(np.array([random() < .2 for _ in range(PROBLEM_SIZE)]) for _ in range(NUM_SETS))\n",
    "State = namedtuple('State', ['taken', 'not_taken'])"
   ],
   "metadata": {
    "collapsed": false,
    "ExecuteTime": {
     "end_time": "2023-10-26T12:25:05.920833100Z",
     "start_time": "2023-10-26T12:25:05.917410700Z"
    }
   },
   "id": "a8b88bc950548162"
  },
  {
   "cell_type": "markdown",
   "source": [
    "### Functions for algorithms\n",
    "\n",
    "- ``goal_check`` is the function that checks whether the state given in input is a solution, that is if all the elements are present within the states taken. To do that, we need to do an or between all the elements of all the sets of the state to see if a certain element is present among all the sets or not (true is present, false is not). With ``all``, we check if all the elements are present, that is, if the ``reduce`` gives me an array of True which means that all the elements are present among the sets taken \n",
    "- ``distance`` is the function that calculate the distance from the input state to the final goal (for a greedy search), in short, it returns how many elements that need to be taken are missing\n",
    "- ``covered`` is the function that returns what are the covered elements in the taken sets"
   ],
   "metadata": {
    "collapsed": false
   },
   "id": "29cc25a17096a0b1"
  },
  {
   "cell_type": "code",
   "execution_count": 4,
   "outputs": [],
   "source": [
    "def goal_check(state):\n",
    "    return np.all(reduce(np.logical_or, [SETS[i] for i in state.taken], np.array([False for _ in range(PROBLEM_SIZE)])))\n",
    "\n",
    "\n",
    "def distance(state):\n",
    "    return PROBLEM_SIZE - sum(\n",
    "        reduce(np.logical_or, [SETS[i] for i in state.taken], np.array([False for _ in range(PROBLEM_SIZE)])))\n",
    "\n",
    "\n",
    "def covered(state):\n",
    "    return reduce(np.logical_or, [SETS[i] for i in state.taken], np.array([False for _ in range(PROBLEM_SIZE)]))"
   ],
   "metadata": {
    "collapsed": false,
    "ExecuteTime": {
     "end_time": "2023-10-26T12:19:30.158203800Z",
     "start_time": "2023-10-26T12:19:30.153689600Z"
    }
   },
   "id": "5ba32ec6d9551d26"
  },
  {
   "cell_type": "code",
   "execution_count": 5,
   "outputs": [],
   "source": [
    "assert goal_check(State(set(range(NUM_SETS)), set())), \"Problem not solvable\""
   ],
   "metadata": {
    "collapsed": false,
    "ExecuteTime": {
     "end_time": "2023-10-26T12:19:31.574631800Z",
     "start_time": "2023-10-26T12:19:31.568965400Z"
    }
   },
   "id": "e9e8ed95cf973fdf"
  },
  {
   "cell_type": "markdown",
   "source": [
    "# Breadth-first search algorithm\n",
    "Implementation using breadth-first search algorithm using a Simple Queue which would be a FIFO\n",
    "If we used a LifoQueue it would become a depth-first search"
   ],
   "metadata": {
    "collapsed": false
   },
   "id": "f36c53587451dc28"
  },
  {
   "cell_type": "code",
   "execution_count": null,
   "outputs": [],
   "source": [
    "frontier = SimpleQueue()\n",
    "frontier.put(State(set(), set(range(NUM_SETS))))\n",
    "\n",
    "counter = 0\n",
    "current_state = frontier.get()\n",
    "with tqdm(total=None) as pbar:\n",
    "    while not goal_check(current_state):\n",
    "        counter += 1\n",
    "        for action in current_state[1]:\n",
    "            new_state = State(current_state.taken ^ {action},\n",
    "                              current_state.not_taken ^ {action})  # {1,2,3} ^ {2} = {1,3}  {1,3} ^ {2} = {1,2,3}\n",
    "            frontier.put(new_state)\n",
    "        current_state = frontier.get()\n",
    "        pbar.update(1)\n",
    "\n",
    "print(f\"Solved in {counter:,} steps ({len(current_state.taken)} tiles)\")"
   ],
   "metadata": {
    "collapsed": false
   },
   "id": "a5f9be78af96c263"
  },
  {
   "cell_type": "markdown",
   "source": [
    "# Dijkstra search algorithm\n",
    "The cost used for the PriorQueue is the number of elements in a set i.e., those taken"
   ],
   "metadata": {
    "collapsed": false
   },
   "id": "24de232537e3bee"
  },
  {
   "cell_type": "code",
   "execution_count": null,
   "outputs": [],
   "source": [
    "frontier = PriorityQueue()\n",
    "frontier.put((0, (State(set(), set(range(NUM_SETS))))))\n",
    "\n",
    "counter = 0\n",
    "_, current_state = frontier.get()\n",
    "with tqdm(total=None) as pbar:\n",
    "    while not goal_check(current_state):\n",
    "        counter += 1\n",
    "        for action in current_state[1]:\n",
    "            new_state = State(current_state.taken ^ {action},\n",
    "                              current_state.not_taken ^ {action})  # {1,2,3} ^ {2} = {1,3}  {1,3} ^ {2} = {1,2,3}\n",
    "            frontier.put((len(new_state.taken), new_state))\n",
    "        _, current_state = frontier.get()\n",
    "        pbar.update(1)\n",
    "\n",
    "print(f\"Solved in {counter:,} steps ({len(current_state.taken)} tiles)\")"
   ],
   "metadata": {
    "collapsed": false
   },
   "id": "3534eeee0ad03d81"
  },
  {
   "cell_type": "markdown",
   "source": [
    "# Greedy search algorithm"
   ],
   "metadata": {
    "collapsed": false
   },
   "id": "ce438dc8a0af2b3"
  },
  {
   "cell_type": "code",
   "execution_count": null,
   "outputs": [],
   "source": [
    "frontier = PriorityQueue()\n",
    "state = State(set(), set(range(NUM_SETS)))\n",
    "frontier.put((distance(state), state))\n",
    "\n",
    "counter = 0\n",
    "_, current_state = frontier.get()\n",
    "with tqdm(total=None) as pbar:\n",
    "    while not goal_check(current_state):\n",
    "        counter += 1\n",
    "        for action in current_state[1]:\n",
    "            new_state = State(current_state.taken ^ {action},\n",
    "                              current_state.not_taken ^ {action})  # {1,2,3} ^ {2} = {1,3}  {1,3} ^ {2} = {1,2,3}\n",
    "            frontier.put((distance(new_state), new_state))\n",
    "        _, current_state = frontier.get()\n",
    "        pbar.update(1)\n",
    "\n",
    "print(f\"Solved in {counter:,} steps ({len(current_state.taken)} tiles)\")"
   ],
   "metadata": {
    "collapsed": false
   },
   "id": "be452834daf2624b"
  },
  {
   "cell_type": "markdown",
   "source": [
    "# A* search algorithm\n",
    "\n",
    "The ``distance`` function is not usable as heuristic for A* because it is pessimistic. If it returns that the distance from the goal is three, I'm sure that I can cover them with three sets, but it is the most pessimistic solution and the heuristic for A* has to be optimistic. These are the functions that I tried ordered from the least performing to the most performing:\n",
    "\n",
    "- ``h1``: if the largest set (the one with most elements) covers two elements and if ``missing_size`` is three (the number of elements there are missing), then I will need at least two sets (3/2). \n",
    "- ``h2``: the same as h1 but for the largest set I take into account only the items that have not yet been covered. ``largest_remaining_set_size`` it will therefore be the maximum number of uncovered elements present in a set.\n",
    "- ``h3``: instead of considering only the set with the maximum size, we use the size of all uncovered sets and sort it taking into account, for the dimension of them, only the items that have not yet been covered. So for example, if I am missing four elements and in the list I have five sets with ordered dimensions (``candidates`` = [2, 1, 1, 1, 1]), it means that I will need at least three sets (2+1+1 = 4)"
   ],
   "metadata": {
    "collapsed": false
   },
   "id": "95d35495f5d3998a"
  },
  {
   "cell_type": "code",
   "execution_count": 20,
   "outputs": [],
   "source": [
    "def h1(state):\n",
    "    largest_set_size = max(sum(s) for s in SETS)\n",
    "    missing_size = PROBLEM_SIZE - sum(covered(state))\n",
    "    optimistic_estimate = ceil(missing_size / largest_set_size)\n",
    "    return optimistic_estimate\n",
    "\n",
    "\n",
    "def h2(state):\n",
    "    already_covered = covered(state)\n",
    "    if np.all(already_covered):\n",
    "        return 0\n",
    "    largest_remaining_set_size = max(sum(np.logical_and(s, np.logical_not(already_covered))) for s in SETS)\n",
    "    missing_size = PROBLEM_SIZE - sum(already_covered)\n",
    "    optimistic_estimate = ceil(missing_size / largest_remaining_set_size)\n",
    "    return optimistic_estimate\n",
    "\n",
    "\n",
    "def h3(state):\n",
    "    already_covered = covered(state)\n",
    "    if np.all(already_covered):\n",
    "        return 0\n",
    "    missing_size = PROBLEM_SIZE - sum(already_covered)\n",
    "    candidates = sorted((sum(np.logical_and(s, np.logical_not(already_covered))) for s in SETS), reverse=True)\n",
    "    taken = 1\n",
    "    while sum(candidates[:taken]) < missing_size:\n",
    "        taken += 1\n",
    "    return taken\n",
    "\n",
    "\n",
    "def A_star(state):\n",
    "    return len(state.taken) + h1(state)"
   ],
   "metadata": {
    "collapsed": false,
    "ExecuteTime": {
     "end_time": "2023-10-26T12:25:41.451934800Z",
     "start_time": "2023-10-26T12:25:41.446490800Z"
    }
   },
   "id": "bb9e1e7444abe90f"
  },
  {
   "cell_type": "code",
   "execution_count": null,
   "outputs": [],
   "source": [
    "frontier = PriorityQueue()\n",
    "state = State(set(), set(range(NUM_SETS)))\n",
    "frontier.put((A_star(state), state))\n",
    "\n",
    "counter = 0\n",
    "_, current_state = frontier.get()\n",
    "with tqdm(total=None) as pbar:\n",
    "    while not goal_check(current_state):\n",
    "        counter += 1\n",
    "        for action in current_state[1]:\n",
    "            new_state = State(\n",
    "                current_state.taken ^ {action},\n",
    "                current_state.not_taken ^ {action},\n",
    "            )\n",
    "            frontier.put((A_star(new_state), new_state))\n",
    "        _, current_state = frontier.get()\n",
    "        pbar.update(1)\n",
    "\n",
    "print(f\"Solved in {counter:,} steps ({len(current_state.taken)} tiles)\")"
   ],
   "metadata": {
    "collapsed": false
   },
   "id": "6b98bdb34bf82bb0"
  }
 ],
 "metadata": {
  "kernelspec": {
   "display_name": "Python 3",
   "language": "python",
   "name": "python3"
  },
  "language_info": {
   "codemirror_mode": {
    "name": "ipython",
    "version": 2
   },
   "file_extension": ".py",
   "mimetype": "text/x-python",
   "name": "python",
   "nbconvert_exporter": "python",
   "pygments_lexer": "ipython2",
   "version": "2.7.6"
  }
 },
 "nbformat": 4,
 "nbformat_minor": 5
}
