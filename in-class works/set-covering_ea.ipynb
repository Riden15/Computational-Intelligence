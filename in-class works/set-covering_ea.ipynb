{
 "cells": [
  {
   "cell_type": "code",
   "execution_count": null,
   "id": "initial_id",
   "metadata": {
    "collapsed": true
   },
   "outputs": [],
   "source": [
    "from random import random, choice, randint\n",
    "from functools import reduce\n",
    "from math import ceil\n",
    "from collections import namedtuple\n",
    "from dataclasses import dataclass\n",
    "import numpy as np\n",
    "from copy import copy\n",
    "from pprint import pprint"
   ]
  },
  {
   "cell_type": "code",
   "execution_count": null,
   "outputs": [],
   "source": [
    "PROBLEM_SIZE = 50\n",
    "NUM_SETS = 100\n",
    "SETS = tuple(np.array([random() < .2 for _ in range(PROBLEM_SIZE)]) for _ in range(NUM_SETS))\n",
    "State = namedtuple('State', ['taken', 'not_taken'])"
   ],
   "metadata": {
    "collapsed": false
   },
   "id": "1ec0e0f6c7ae26ee"
  },
  {
   "cell_type": "code",
   "execution_count": null,
   "outputs": [],
   "source": [
    "def goal_check(state):\n",
    "    return np.all(reduce(np.logical_or, [SETS[i] for i in state.taken], np.array([False for _ in range(PROBLEM_SIZE)])))\n",
    "assert goal_check(State(set(range(NUM_SETS)), set())), \"Problem not solvable\""
   ],
   "metadata": {
    "collapsed": false
   },
   "id": "bd91fddc1349f28b"
  },
  {
   "cell_type": "code",
   "execution_count": null,
   "outputs": [],
   "source": [
    "def fitness1(state):\n",
    "    cost = sum(state)\n",
    "    valid = np.all(\n",
    "        reduce(\n",
    "            np.logical_or,\n",
    "            [SETS[i] for i, t in enumerate(state) if t],\n",
    "            np.array([False for _ in range(PROBLEM_SIZE)]),\n",
    "        )\n",
    "    )\n",
    "    return valid, -cost\n",
    "\n",
    "\n",
    "def fitness2(state):\n",
    "    cost = sum(state)\n",
    "    valid = np.sum(\n",
    "        reduce(\n",
    "            np.logical_or,\n",
    "            [SETS[i] for i, t in enumerate(state) if t],\n",
    "            np.array([False for _ in range(PROBLEM_SIZE)]),\n",
    "        )\n",
    "    )\n",
    "    return valid, -cost\n",
    "\n",
    "\n",
    "fitness = fitness2"
   ],
   "metadata": {
    "collapsed": false
   },
   "id": "e8a4dad130da6414"
  },
  {
   "cell_type": "markdown",
   "source": [
    "### Problem Parameters\n",
    "\n",
    "Having ``POPULATION_SIZE``=30 and ``OFFSPRING_SIZE``=20 we are making a Steady state Genetic Algorithm which means that we are creating 20 new individuals to put in the population, we mix and keep the 30 best ones and then throw them away 20."
   ],
   "metadata": {
    "collapsed": false
   },
   "id": "4aebb85457b5d7"
  },
  {
   "cell_type": "code",
   "execution_count": null,
   "outputs": [],
   "source": [
    "POPULATION_SIZE = 30\n",
    "OFFSPRING_SIZE = 20\n",
    "TOURNAMENT_SIZE = 2\n",
    "MUTATION_PROBABILITY = .15"
   ],
   "metadata": {
    "collapsed": false
   },
   "id": "46c52e95ebf5ff6d"
  },
  {
   "cell_type": "markdown",
   "source": [
    "Il genoma dovrebbe essere la stessa cosa di uno stato in un path search, esso quindi indica gli stati presi.\n",
    "\n",
    "- ``select_parent`` is a function that takes ``TOURNAMENT_SIZE`` elements from the population randomly and returns the best of them, the ``champion``, depending on their ``fitness``.\n",
    "- ``mutation`` is a kind of tweak function, it creates a new individual. In this case, as in single states, we simply change a random value of the genotype. This means that they change a state to taken from not taken or vice versa.\n",
    "- ``one_cut_xover`` takes two individuals and produces one. The one-cut technique was used, i.e., a random value is chosen which will be the index of the cut of the parent genotypes. The new genotype will therefore be formed by the sum of the parent genotypes where the first part will be from the first individual and the second part will be from the second individual who have both entered."
   ],
   "metadata": {
    "collapsed": false
   },
   "id": "9bbcd1ce94bcad2f"
  },
  {
   "cell_type": "code",
   "execution_count": null,
   "outputs": [],
   "source": [
    "@dataclass\n",
    "class Individual:\n",
    "    genotype: list[bool]\n",
    "    fitness: tuple\n",
    "\n",
    "def select_parent(population): \n",
    "    pool = [choice(population) for _ in range(TOURNAMENT_SIZE)]\n",
    "    champion = max(pool, key=lambda i: i.fitness)\n",
    "    return champion\n",
    "\n",
    "def mutation(ind: Individual) -> Individual:\n",
    "    offspring = copy(ind)\n",
    "    pos = randint(0, NUM_SETS-1)\n",
    "    offspring.genotype[pos] = not offspring.genotype[pos]\n",
    "    offspring.fitness = None\n",
    "    return offspring\n",
    "\n",
    "def one_cut_xover(ind1: Individual, ind2: Individual) -> Individual:\n",
    "    cut_point = randint(0, NUM_SETS-1)\n",
    "    offspring = Individual(fitness=None, genotype=ind1.genotype[:cut_point]+ind2.genotype[cut_point:])\n",
    "    return offspring"
   ],
   "metadata": {
    "collapsed": false
   },
   "id": "44a98edc1ff1d142"
  },
  {
   "cell_type": "markdown",
   "source": [
    "# Inizialize the population"
   ],
   "metadata": {
    "collapsed": false
   },
   "id": "e12f321449b54704"
  },
  {
   "cell_type": "code",
   "execution_count": null,
   "outputs": [],
   "source": [
    "population = [Individual(genotype=[choice((True, False)) for _ in range(NUM_SETS)], fitness=None) for _ in range(POPULATION_SIZE)]\n",
    "\n",
    "for i in population:\n",
    "    i.fitness = fitness(i.genotype)"
   ],
   "metadata": {
    "collapsed": false
   },
   "id": "d99d0e1acc5e3c2c"
  },
  {
   "cell_type": "markdown",
   "source": [
    "- Now that we have the population the first step is to take the parents in each ``generation``\n",
    "\n",
    "- In Genetic Algorithms we have two choices: the first is to select mutation or recombination, in the second we do recombination and with a certain probability we mutate. We choose the first, which is also the one recommended in general, so only one of the two is done in each cycle. In case of mutation I pick one parent, in case of crossover I pick two."
   ],
   "metadata": {
    "collapsed": false
   },
   "id": "131e32ba15ac19cb"
  },
  {
   "cell_type": "code",
   "execution_count": null,
   "outputs": [],
   "source": [
    "for generation in range(10):\n",
    "    offspring = list()\n",
    "    for counter in range(OFFSPRING_SIZE):\n",
    "        if random() < MUTATION_PROBABILITY:\n",
    "            #mutation\n",
    "            p=select_parent(population)\n",
    "            o = mutation(p)\n",
    "        else:\n",
    "            # crossover\n",
    "            p1=select_parent(population)\n",
    "            p2=select_parent(population)\n",
    "            o=one_cut_xover(p1, p2)\n",
    "        offspring.append(o)\n",
    "        \n",
    "    for i in offspring:\n",
    "        i.fitness = fitness(i)\n",
    "        population.extend(offspring)\n",
    "    # survival selection\n",
    "    population.sort(key=lambda i: i.fitness, reverse=True)\n",
    "    population = population[:POPULATION_SIZE]\n",
    "    pprint(population[0].fitness)"
   ],
   "metadata": {
    "collapsed": false
   },
   "id": "d4a4af3dd96a86d3"
  }
 ],
 "metadata": {
  "kernelspec": {
   "display_name": "Python 3",
   "language": "python",
   "name": "python3"
  },
  "language_info": {
   "codemirror_mode": {
    "name": "ipython",
    "version": 2
   },
   "file_extension": ".py",
   "mimetype": "text/x-python",
   "name": "python",
   "nbconvert_exporter": "python",
   "pygments_lexer": "ipython2",
   "version": "2.7.6"
  }
 },
 "nbformat": 4,
 "nbformat_minor": 5
}
