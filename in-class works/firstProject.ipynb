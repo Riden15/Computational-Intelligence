{
 "cells": [
  {
   "cell_type": "code",
   "execution_count": 14,
   "id": "initial_id",
   "metadata": {
    "collapsed": true,
    "ExecuteTime": {
     "end_time": "2023-10-09T16:07:54.940645800Z",
     "start_time": "2023-10-09T16:07:54.914573900Z"
    }
   },
   "outputs": [
    {
     "data": {
      "text/plain": "2"
     },
     "execution_count": 14,
     "metadata": {},
     "output_type": "execute_result"
    }
   ],
   "source": [
    "1+1"
   ]
  },
  {
   "cell_type": "code",
   "execution_count": 15,
   "outputs": [],
   "source": [
    "def my_first_function(argument_1, argument_2):\n",
    "    print(argument_1, argument_2)\n",
    "    argument_1.append(42)"
   ],
   "metadata": {
    "collapsed": false,
    "ExecuteTime": {
     "end_time": "2023-10-09T16:07:54.948248200Z",
     "start_time": "2023-10-09T16:07:54.919572100Z"
    }
   },
   "id": "2407be193ffa13e8"
  },
  {
   "cell_type": "code",
   "execution_count": 16,
   "outputs": [
    {
     "name": "stdout",
     "output_type": "stream",
     "text": [
      "[] 42\n",
      "[42] 42\n"
     ]
    }
   ],
   "source": [
    "foo = list()\n",
    "bar = 42\n",
    "my_first_function(foo, bar)\n",
    "print(foo, bar)"
   ],
   "metadata": {
    "collapsed": false,
    "ExecuteTime": {
     "end_time": "2023-10-09T16:07:54.949248Z",
     "start_time": "2023-10-09T16:07:54.926084200Z"
    }
   },
   "id": "3ae872762c21110e"
  },
  {
   "cell_type": "markdown",
   "source": [],
   "metadata": {
    "collapsed": false
   },
   "id": "ad5f64d56319086c"
  },
  {
   "cell_type": "code",
   "execution_count": 17,
   "outputs": [],
   "source": [
    "def function(foo, bar, baz=42):\n",
    "    print(foo, bar, baz)"
   ],
   "metadata": {
    "collapsed": false,
    "ExecuteTime": {
     "end_time": "2023-10-09T16:07:54.996890600Z",
     "start_time": "2023-10-09T16:07:54.930528100Z"
    }
   },
   "id": "56101d05b19286af"
  },
  {
   "cell_type": "code",
   "execution_count": 18,
   "outputs": [
    {
     "name": "stdout",
     "output_type": "stream",
     "text": [
      "13 12 42\n"
     ]
    }
   ],
   "source": [
    "function(bar=12, foo=13)"
   ],
   "metadata": {
    "collapsed": false,
    "ExecuteTime": {
     "end_time": "2023-10-09T16:07:54.996890600Z",
     "start_time": "2023-10-09T16:07:54.934444600Z"
    }
   },
   "id": "e9b40f16ab6b4808"
  },
  {
   "cell_type": "code",
   "execution_count": 19,
   "outputs": [
    {
     "name": "stdout",
     "output_type": "stream",
     "text": [
      "1++2++3\n"
     ]
    }
   ],
   "source": [
    "print(1, 2, 3, sep='++')"
   ],
   "metadata": {
    "collapsed": false,
    "ExecuteTime": {
     "end_time": "2023-10-09T16:07:54.997889100Z",
     "start_time": "2023-10-09T16:07:54.939643800Z"
    }
   },
   "id": "8f5b6a65b2839d65"
  },
  {
   "cell_type": "code",
   "execution_count": 20,
   "outputs": [],
   "source": [
    "def array(*blue, bar, **green): # *indica che tutti gli argomenti che non sono specificati con un nome vanno in blue ed è una tupla, usando ** invece green è un dizionario con chiave dei valori il nome specificato\n",
    "    print(type(blue))\n",
    "    print(blue[1])\n",
    "    print(type(green))\n",
    "    print(green)\n",
    "    print(bar)"
   ],
   "metadata": {
    "collapsed": false,
    "ExecuteTime": {
     "end_time": "2023-10-09T16:07:54.998889800Z",
     "start_time": "2023-10-09T16:07:54.944627700Z"
    }
   },
   "id": "d4094a191e6d5499"
  },
  {
   "cell_type": "code",
   "execution_count": 21,
   "outputs": [
    {
     "name": "stdout",
     "output_type": "stream",
     "text": [
      "<class 'tuple'>\n",
      "2\n",
      "<class 'dict'>\n",
      "{'foo': 23, 'baz': -1}\n",
      "45\n"
     ]
    }
   ],
   "source": [
    "array(1, 2, 3, foo=23, bar=45, baz=-1)"
   ],
   "metadata": {
    "collapsed": false,
    "ExecuteTime": {
     "end_time": "2023-10-09T16:07:55.006399100Z",
     "start_time": "2023-10-09T16:07:54.949248Z"
    }
   },
   "id": "f3f1540f6711c35e"
  },
  {
   "cell_type": "code",
   "execution_count": 22,
   "outputs": [
    {
     "data": {
      "text/plain": "(0, 1, 2, 3, 4, 5, 6, 7, 8, 9)"
     },
     "execution_count": 22,
     "metadata": {},
     "output_type": "execute_result"
    }
   ],
   "source": [
    "tuple(x for x in range(10))"
   ],
   "metadata": {
    "collapsed": false,
    "ExecuteTime": {
     "end_time": "2023-10-09T16:07:55.006399100Z",
     "start_time": "2023-10-09T16:07:54.954441400Z"
    }
   },
   "id": "e69260a3621066d4"
  },
  {
   "cell_type": "code",
   "execution_count": 23,
   "outputs": [
    {
     "data": {
      "text/plain": "['Francesco', 'Giovanni', 'Pietro', 'Riccardo']"
     },
     "execution_count": 23,
     "metadata": {},
     "output_type": "execute_result"
    }
   ],
   "source": [
    "name = \"Giovanni Riccardo Pietro Francesco\"\n",
    "foo = name.split()\n",
    "foo.sort()\n",
    "foo"
   ],
   "metadata": {
    "collapsed": false,
    "ExecuteTime": {
     "end_time": "2023-10-09T16:07:55.006399100Z",
     "start_time": "2023-10-09T16:07:54.959914500Z"
    }
   },
   "id": "6367ba01b4c2e43"
  },
  {
   "cell_type": "code",
   "execution_count": 24,
   "outputs": [],
   "source": [
    "def key_function(element):\n",
    "    return len(element)"
   ],
   "metadata": {
    "collapsed": false,
    "ExecuteTime": {
     "end_time": "2023-10-09T16:07:55.006399100Z",
     "start_time": "2023-10-09T16:07:54.964177900Z"
    }
   },
   "id": "31dc79fa61c3c84a"
  },
  {
   "cell_type": "code",
   "execution_count": 25,
   "outputs": [
    {
     "data": {
      "text/plain": "['Pietro', 'Giovanni', 'Riccardo', 'Francesco']"
     },
     "execution_count": 25,
     "metadata": {},
     "output_type": "execute_result"
    }
   ],
   "source": [
    "foo.sort(key=key_function)\n",
    "foo"
   ],
   "metadata": {
    "collapsed": false,
    "ExecuteTime": {
     "end_time": "2023-10-09T16:07:55.007398900Z",
     "start_time": "2023-10-09T16:07:54.967696200Z"
    }
   },
   "id": "975e54201fa755f"
  },
  {
   "cell_type": "code",
   "execution_count": 26,
   "outputs": [
    {
     "data": {
      "text/plain": "['Francesco', 'Giovanni', 'Riccardo', 'Pietro']"
     },
     "execution_count": 26,
     "metadata": {},
     "output_type": "execute_result"
    }
   ],
   "source": [
    "foo.sort(key=lambda e: len(e), reverse=True)\n",
    "foo"
   ],
   "metadata": {
    "collapsed": false,
    "ExecuteTime": {
     "end_time": "2023-10-09T16:07:55.007398900Z",
     "start_time": "2023-10-09T16:07:54.974464200Z"
    }
   },
   "id": "2caafc9f575cfb40"
  }
 ],
 "metadata": {
  "kernelspec": {
   "display_name": "Python 3",
   "language": "python",
   "name": "python3"
  },
  "language_info": {
   "codemirror_mode": {
    "name": "ipython",
    "version": 2
   },
   "file_extension": ".py",
   "mimetype": "text/x-python",
   "name": "python",
   "nbconvert_exporter": "python",
   "pygments_lexer": "ipython2",
   "version": "2.7.6"
  }
 },
 "nbformat": 4,
 "nbformat_minor": 5
}
