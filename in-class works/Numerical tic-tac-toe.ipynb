{
 "cells": [
  {
   "cell_type": "markdown",
   "metadata": {},
   "source": [
    "Copyright **`(c)`** 2023 Giovanni Squillero `<giovanni.squillero@polito.it>`  \n",
    "[`https://github.com/squillero/computational-intelligence`](https://github.com/squillero/computational-intelligence)  \n",
    "Free for personal or classroom use; see [`LICENSE.md`](https://github.com/squillero/computational-intelligence/blob/master/LICENSE.md) for details.  "
   ]
  },
  {
   "cell_type": "markdown",
   "metadata": {},
   "source": [
    "# LAB4\n",
    "\n",
    "Use reinforcement learning to devise a tic-tac-toe player.\n",
    "\n",
    "### Deadlines:\n",
    "\n",
    "* Submission: [Dies Natalis Solis Invicti](https://en.wikipedia.org/wiki/Sol_Invictus)\n",
    "* Reviews: [Befana](https://en.wikipedia.org/wiki/Befana)\n",
    "\n",
    "Notes:\n",
    "\n",
    "* Reviews will be assigned  on Monday, December 4\n",
    "* You need to commit in order to be selected as a reviewer (ie. better to commit an empty work than not to commit)"
   ]
  },
  {
   "cell_type": "code",
   "execution_count": 1,
   "metadata": {
    "ExecuteTime": {
     "end_time": "2023-12-14T21:03:05.084184700Z",
     "start_time": "2023-12-14T21:03:05.020251300Z"
    }
   },
   "outputs": [],
   "source": [
    "import numpy as np\n",
    "from itertools import combinations\n",
    "from collections import namedtuple\n",
    "from random import choice\n",
    "from copy import deepcopy\n",
    "from collections import defaultdict"
   ]
  },
  {
   "cell_type": "markdown",
   "source": [
    "## Numerical tic-tac-toe\n",
    "- ``Position`` describe the state of our game. With ``x`` we define the numbers placed by player 1 while with ``o`` those of player 2.\n",
    "- ``Magic`` is the matrix where the sum of each row, column and diagonal is 15. it's used for the ``win`` function."
   ],
   "metadata": {
    "collapsed": false
   }
  },
  {
   "cell_type": "code",
   "execution_count": 2,
   "outputs": [],
   "source": [
    "State = namedtuple('State', ['x', 'o'])\n",
    "MAGIC = [2, 7, 6, \n",
    "         9, 5, 1, \n",
    "         4, 3, 8]"
   ],
   "metadata": {
    "collapsed": false,
    "ExecuteTime": {
     "end_time": "2023-12-14T21:03:05.090479100Z",
     "start_time": "2023-12-14T21:03:05.084184700Z"
    }
   }
  },
  {
   "cell_type": "markdown",
   "source": [
    "## Utility functions\n",
    "\n",
    "``print_board``: it just print the game board given the state of it"
   ],
   "metadata": {
    "collapsed": false
   }
  },
  {
   "cell_type": "code",
   "execution_count": 3,
   "outputs": [],
   "source": [
    "def print_board(pos):\n",
    "    for r in range(3):\n",
    "        for c in range(3):\n",
    "            index = r * 3 + c\n",
    "            if MAGIC[index] in pos.x:\n",
    "                print('X', end='')\n",
    "            elif MAGIC[index] in pos.o:\n",
    "                print('O', end='')\n",
    "            else:\n",
    "                print(' ', end='')\n",
    "        print()\n",
    "    print()"
   ],
   "metadata": {
    "collapsed": false,
    "ExecuteTime": {
     "end_time": "2023-12-14T21:03:05.095589700Z",
     "start_time": "2023-12-14T21:03:05.088470700Z"
    }
   }
  },
  {
   "cell_type": "markdown",
   "source": [
    "## Reward functions\n",
    "- ``win``: return true if the position of the game state is a win so if the sum of a row, column or diagonal is 15\n",
    "- ``state_value``: evaluate the state and return 1 if the first player won, -1 if the second player won or 0 if neither player won.\n",
    "- ``random_game``: function that play a game with random move. It returns a list of every board state seen in the game just played."
   ],
   "metadata": {
    "collapsed": false
   }
  },
  {
   "cell_type": "code",
   "execution_count": 4,
   "outputs": [],
   "source": [
    "def win (squares):\n",
    "    return any(sum(c) == 15 for c in combinations(squares, 3))\n",
    "\n",
    "def state_value(position: State):\n",
    "    if win(position.x):\n",
    "        return 1\n",
    "    elif win(position.o):\n",
    "        return -1\n",
    "    else:\n",
    "        return 0\n",
    "\n",
    "def random_game():\n",
    "    trajectory = list()\n",
    "    state = State(set(), set())\n",
    "    available = set(range(1, 9+1))\n",
    "    while available:\n",
    "        x = choice(list(available))\n",
    "        state.x.add(x)\n",
    "        trajectory.append(deepcopy(state))\n",
    "        available.remove(x)\n",
    "        if win(state.x) or not available:\n",
    "            break\n",
    "        \n",
    "        o = choice(list(available))\n",
    "        state.o.add(o)\n",
    "        trajectory.append(deepcopy(state))\n",
    "        available.remove(o)\n",
    "        if win(state.o):\n",
    "            break\n",
    "    return trajectory"
   ],
   "metadata": {
    "collapsed": false,
    "ExecuteTime": {
     "end_time": "2023-12-14T21:03:05.096590700Z",
     "start_time": "2023-12-14T21:03:05.092485Z"
    }
   }
  },
  {
   "cell_type": "markdown",
   "source": [
    "## Code Test\n",
    "\n",
    "Quello che succede qua è che viene fatto un game con mosse random per un certo numero ``steps`` di volte. ``trajectory`` sarebbe una lista di tutti gli stati del gioco visti nella partita appena svolta. Viene fatto quindi una hash table con tutti gli stati visti per tutte le partite svolte e il reward che ha portato quella mossa sempre in tutte le partite."
   ],
   "metadata": {
    "collapsed": false
   }
  },
  {
   "cell_type": "code",
   "execution_count": 6,
   "outputs": [],
   "source": [
    "value_dict = defaultdict(float)\n",
    "epsilon = .001\n",
    " \n",
    "for steps in range(10000):\n",
    "    trajectory = random_game()\n",
    "    final_reward = state_value(trajectory[-1])\n",
    "    for state in trajectory:\n",
    "        hashable_state = (frozenset(state.x), frozenset(state.o))\n",
    "        value_dict[hashable_state] = value_dict[hashable_state] + epsilon * (final_reward - value_dict[hashable_state])"
   ],
   "metadata": {
    "collapsed": false,
    "ExecuteTime": {
     "end_time": "2023-12-14T21:03:07.793596500Z",
     "start_time": "2023-12-14T21:03:06.798788500Z"
    }
   }
  },
  {
   "cell_type": "code",
   "execution_count": 7,
   "outputs": [
    {
     "data": {
      "text/plain": "[((frozenset({5}), frozenset()), 0.3271607449087342),\n ((frozenset({6}), frozenset()), 0.22887483403383943),\n ((frozenset({4}), frozenset()), 0.22595169171854304),\n ((frozenset({2}), frozenset()), 0.20876481660630122),\n ((frozenset({8}), frozenset()), 0.18909459442766977),\n ((frozenset({9}), frozenset()), 0.17073537963913504),\n ((frozenset({3}), frozenset()), 0.1437255238501484),\n ((frozenset({1}), frozenset()), 0.13388542265102382),\n ((frozenset({7}), frozenset()), 0.10630248965396563),\n ((frozenset({6}), frozenset({1})), 0.07626599721500074)]"
     },
     "execution_count": 7,
     "metadata": {},
     "output_type": "execute_result"
    }
   ],
   "source": [
    "sorted(value_dict.items(), key=lambda e:e[1], reverse=True)[:10]"
   ],
   "metadata": {
    "collapsed": false,
    "ExecuteTime": {
     "end_time": "2023-12-14T21:03:09.791622700Z",
     "start_time": "2023-12-14T21:03:09.784606300Z"
    }
   }
  },
  {
   "cell_type": "code",
   "execution_count": 21,
   "outputs": [
    {
     "data": {
      "text/plain": "True"
     },
     "execution_count": 21,
     "metadata": {},
     "output_type": "execute_result"
    }
   ],
   "source": [
    "any(sum(c) == 15 for c in combinations({1,2,3,4,5,6}, 3))"
   ],
   "metadata": {
    "collapsed": false,
    "ExecuteTime": {
     "end_time": "2023-12-14T17:04:05.994368800Z",
     "start_time": "2023-12-14T17:04:05.983795800Z"
    }
   }
  },
  {
   "cell_type": "code",
   "execution_count": 26,
   "outputs": [
    {
     "data": {
      "text/plain": "Position(x={8, 2, 3, 4}, o={9, 5, 6})"
     },
     "execution_count": 26,
     "metadata": {},
     "output_type": "execute_result"
    }
   ],
   "source": [
    "state = State({2,4,3,8}, {6,9,5})\n",
    "state"
   ],
   "metadata": {
    "collapsed": false,
    "ExecuteTime": {
     "end_time": "2023-12-14T17:13:52.395814200Z",
     "start_time": "2023-12-14T17:13:52.390030800Z"
    }
   }
  }
 ],
 "metadata": {
  "kernelspec": {
   "display_name": "ci-fLJ3OwGs-py3.12",
   "language": "python",
   "name": "python3"
  },
  "language_info": {
   "codemirror_mode": {
    "name": "ipython",
    "version": 3
   },
   "file_extension": ".py",
   "mimetype": "text/x-python",
   "name": "python",
   "nbconvert_exporter": "python",
   "pygments_lexer": "ipython3",
   "version": "3.12.0"
  }
 },
 "nbformat": 4,
 "nbformat_minor": 2
}
