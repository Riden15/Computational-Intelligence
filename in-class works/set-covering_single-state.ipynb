{
 "cells": [
  {
   "cell_type": "markdown",
   "source": [
    "# Set Covering\n",
    "---\n",
    "## Single State Local Search"
   ],
   "metadata": {
    "collapsed": false
   },
   "id": "99c982e051dbebe2"
  },
  {
   "cell_type": "markdown",
   "source": [
    "### Description of the problem\n",
    "Given the number of sets ``NUM_SETS`` and the number of elements inside each set ``PROBLEM_SIZE``, determine, if possible, the collection of sets through which all the elements are available.\n",
    "\n",
    "A state is made up of the sets of items that I take and the sets that I don't take. \n",
    "* State=({1,3,5}, {0,2,4,6,7}) -> I'm taking the second array of items from ``SETS``, the fourth and the sixth.\n",
    "* The quality of a solution (the chosen state) is given by the smallest number of taken sets to get all the elements"
   ],
   "metadata": {
    "collapsed": false
   },
   "id": "f4011de8610fc5f4"
  },
  {
   "cell_type": "markdown",
   "source": [
    "# Code\n",
    "---"
   ],
   "metadata": {
    "collapsed": false
   },
   "id": "7a2444b5bc215bac"
  },
  {
   "cell_type": "markdown",
   "source": [
    "### Imported Libraries"
   ],
   "metadata": {
    "collapsed": false
   },
   "id": "4eb1a896c0754d92"
  },
  {
   "cell_type": "code",
   "execution_count": 118,
   "outputs": [],
   "source": [
    "from random import random, choice, randint\n",
    "from functools import reduce\n",
    "from math import ceil\n",
    "from collections import namedtuple\n",
    "from queue import PriorityQueue, SimpleQueue, LifoQueue\n",
    "import numpy as np\n",
    "from tqdm.auto import tqdm\n",
    "from copy import copy"
   ],
   "metadata": {
    "collapsed": false,
    "ExecuteTime": {
     "end_time": "2023-10-29T17:34:43.147798Z",
     "start_time": "2023-10-29T17:34:43.140836900Z"
    }
   },
   "id": "5a077583f910454b"
  },
  {
   "cell_type": "markdown",
   "source": [
    "### Problem instance\n",
    "We implement the sets as an array of arrays where one element has a 20% chance of being true. A set indicates which item is inside the set and which is not, if an element of the set has a value of true it means that it is present otherwise not"
   ],
   "metadata": {
    "collapsed": false
   },
   "id": "dd06b41ba4267723"
  },
  {
   "cell_type": "code",
   "execution_count": 119,
   "outputs": [],
   "source": [
    "PROBLEM_SIZE = 5\n",
    "NUM_SETS = 10\n",
    "SETS = tuple(np.array([random() < .2 for _ in range(PROBLEM_SIZE)]) for _ in range(NUM_SETS))\n",
    "State = namedtuple('State', ['taken', 'not_taken'])"
   ],
   "metadata": {
    "collapsed": false,
    "ExecuteTime": {
     "end_time": "2023-10-29T17:34:43.157901600Z",
     "start_time": "2023-10-29T17:34:43.145011600Z"
    }
   },
   "id": "a8b88bc950548162"
  },
  {
   "cell_type": "code",
   "execution_count": 120,
   "outputs": [],
   "source": [
    "def goal_check(state):\n",
    "    return np.all(reduce(np.logical_or, [SETS[i] for i in state.taken], np.array([False for _ in range(PROBLEM_SIZE)])))\n",
    "assert goal_check(State(set(range(NUM_SETS)), set())), \"Problem not solvable\""
   ],
   "metadata": {
    "collapsed": false,
    "ExecuteTime": {
     "end_time": "2023-10-29T17:34:43.158900400Z",
     "start_time": "2023-10-29T17:34:43.149798200Z"
    }
   },
   "id": "e9e8ed95cf973fdf"
  },
  {
   "cell_type": "markdown",
   "source": [
    "# Hill Climbing\n",
    "The ``current_state`` is an array of boolean where true indicates if the state contains that particular set, false if it doesn't contain it. We have to initialize it to a random possible solution.\n",
    "\n",
    "- In ``tweak`` function we swap one of the set randomly, if it was taken we change it into not taken and vice versa.\n",
    "- The ``fintess1`` function returns a boolean that indicates if the state given as input is a solution and the negative cost that is the number of taken sets as negative. That's because when we check if we want to swap the  ``current_state`` we first check if the state is a solution (False < True) and then we want to take the solution with the smallest number of taken sets. The problem with this function is that if we start with a ``current_state`` that is not a solution, the algorithm will go to another invalid solution with just less taken sets. The more he takes away the set, the more difficult it is to move towards the solution.\n",
    "- the ``fitness2`` function solves the problem of the previous function using the number of covered elements as the first object of the tuple instead of the boolean that indicate if the ``current_state`` is a solution.\n",
    "\n",
    "Speaking in a more general way, the ``fitness`` function is as if it gives a rank to the current state and the tweak function is the one that allows us to move between different solutions."
   ],
   "metadata": {
    "collapsed": false
   },
   "id": "502a90539782168e"
  },
  {
   "cell_type": "code",
   "execution_count": 121,
   "outputs": [],
   "source": [
    "def fitness1(state):\n",
    "    cost = sum(state)\n",
    "    valid = np.all(\n",
    "        reduce(\n",
    "            np.logical_or,\n",
    "            [SETS[i] for i, t in enumerate(state) if t],\n",
    "            np.array([False for _ in range(PROBLEM_SIZE)]),\n",
    "        )\n",
    "    )\n",
    "    return valid, -cost\n",
    "\n",
    "\n",
    "def fitness2(state):\n",
    "    cost = sum(state)\n",
    "    valid = np.sum(\n",
    "        reduce(\n",
    "            np.logical_or,\n",
    "            [SETS[i] for i, t in enumerate(state) if t],\n",
    "            np.array([False for _ in range(PROBLEM_SIZE)]),\n",
    "        )\n",
    "    )\n",
    "    return valid, -cost\n",
    "\n",
    "def tweak(state):\n",
    "    new_state = copy(state)\n",
    "    index = randint(0, PROBLEM_SIZE - 1) # pick a random index\n",
    "    new_state[index] = not new_state[index] # swap\n",
    "    return new_state\n",
    "\n",
    "fitness = fitness2"
   ],
   "metadata": {
    "collapsed": false,
    "ExecuteTime": {
     "end_time": "2023-10-29T17:34:43.158900400Z",
     "start_time": "2023-10-29T17:34:43.154817500Z"
    }
   },
   "id": "780c5d6f16bc3acf"
  },
  {
   "cell_type": "code",
   "execution_count": null,
   "outputs": [],
   "source": [
    "current_state = [choice([True, False]) for _ in range(NUM_SETS)]\n",
    "print(fitness(current_state))\n",
    "\n",
    "for step in range(100):\n",
    "    new_state = tweak(current_state)\n",
    "    if fitness(new_state) > fitness(current_state): # with fitness2 we have to use >, with fitness1 >=\n",
    "        current_state = new_state\n",
    "        print(fitness(current_state))"
   ],
   "metadata": {
    "collapsed": false
   },
   "id": "19b7218da7d29411"
  }
 ],
 "metadata": {
  "kernelspec": {
   "display_name": "Python 3",
   "language": "python",
   "name": "python3"
  },
  "language_info": {
   "codemirror_mode": {
    "name": "ipython",
    "version": 2
   },
   "file_extension": ".py",
   "mimetype": "text/x-python",
   "name": "python",
   "nbconvert_exporter": "python",
   "pygments_lexer": "ipython2",
   "version": "2.7.6"
  }
 },
 "nbformat": 4,
 "nbformat_minor": 5
}
