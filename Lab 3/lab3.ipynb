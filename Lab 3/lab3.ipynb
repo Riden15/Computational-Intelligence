{
 "cells": [
  {
   "cell_type": "markdown",
   "metadata": {},
   "source": [
    "Solution and Notebook made by Riccardo Cardona [(GitHub link)](https://github.com/Riden15) and Nicholas Berardo [(GitHub link)](https://github.com/Niiikkkk)"
   ]
  },
  {
   "cell_type": "markdown",
   "metadata": {},
   "source": [
    "# LAB3\n",
    "\n",
    "Write a local-search algorithm (eg. an EA) able to solve the *Problem* instances 1, 2, 5, and 10 on a 1000-loci genomes, using a minimum number of fitness calls. That's all.\n",
    "\n",
    "### Deadlines:\n",
    "\n",
    "* Submission: Sunday, December 3 ([CET](https://www.timeanddate.com/time/zones/cet))\n",
    "* Reviews: Sunday, December 10 ([CET](https://www.timeanddate.com/time/zones/cet))\n",
    "\n",
    "Notes:\n",
    "\n",
    "* Reviews will be assigned  on Monday, December 4\n",
    "* You need to commit in order to be selected as a reviewer (ie. better to commit an empty work than not to commit)"
   ]
  },
  {
   "cell_type": "code",
   "execution_count": 19,
   "metadata": {
    "ExecuteTime": {
     "end_time": "2023-12-06T20:52:08.870029800Z",
     "start_time": "2023-12-06T20:52:08.848894Z"
    }
   },
   "outputs": [],
   "source": [
    "from random import choices,randint, choice\n",
    "import random\n",
    "\n",
    "import lab3_lib"
   ]
  },
  {
   "cell_type": "code",
   "execution_count": 20,
   "metadata": {
    "ExecuteTime": {
     "end_time": "2023-12-06T20:52:08.886091700Z",
     "start_time": "2023-12-06T20:52:08.851099600Z"
    }
   },
   "outputs": [
    {
     "name": "stdout",
     "output_type": "stream",
     "text": [
      "10100111010010000111001110111010000110010101110111: 15.33%\n",
      "11000110011001101011001101110010110100110110001101: 15.33%\n",
      "01001101001110001000110111110001011110000001100011: 15.33%\n",
      "01100010110101101011000110001101011000110101100101: 9.11%\n",
      "01100110110110001000100101100100000000110101110110: 29.56%\n",
      "11100010000001110001100101001111110001111100110100: 7.33%\n",
      "00101101110011000100100101110100101011110011110010: 15.33%\n",
      "11110101001101001001100110100000101010011011110111: 15.33%\n",
      "11000000101010011110101111110001000110111111000110: 15.33%\n",
      "01101001011111110001001011000010101010100011010011: 9.13%\n",
      "10\n"
     ]
    }
   ],
   "source": [
    "fitness = lab3_lib.make_problem(10)\n",
    "for n in range(10):\n",
    "    ind = choices([0, 1], k=50)\n",
    "    print(f\"{''.join(str(g) for g in ind)}: {fitness(ind):.2%}\")\n",
    "\n",
    "print(fitness.calls)"
   ]
  },
  {
   "cell_type": "markdown",
   "metadata": {},
   "source": [
    "## EA\n",
    "- ``mutation``: function that creates a new individual. In this case, we simply change the random value of the genotype. If the selected number of the genome is 0, it will become 1 and viceversa.\n",
    "- ``one_cut_xover``: takes two individuals and produces one. The one-cut technique was used, i.e., a random value is chosen which will be the index of the cut of the parent genotypes.\n",
    "- ``xover``: it creates a child genome by randomly selecting each gene from either parent with equal probability."
   ]
  },
  {
   "cell_type": "code",
   "execution_count": 21,
   "metadata": {
    "ExecuteTime": {
     "end_time": "2023-12-06T20:52:08.886091700Z",
     "start_time": "2023-12-06T20:52:08.857855800Z"
    }
   },
   "outputs": [],
   "source": [
    "def mutation(genome):\n",
    "    index = randint(0,len(genome[0])-1)\n",
    "    genome[0][index] = 1-genome[0][index]\n",
    "    return genome[0]\n",
    "\n",
    "def one_cut_xover(ind1, ind2):\n",
    "    cut_point = randint(0, len(ind1[0]))\n",
    "    offspring = ind1[0][:cut_point]+ind2[0][cut_point:]\n",
    "    return offspring\n",
    "\n",
    "def xover(genome1, genome2):\n",
    "    child_genome = [g1 if random.random() > 0.5 else g2 for g1, g2 in zip(genome1[0], genome2[0])]\n",
    "    return child_genome"
   ]
  },
  {
   "cell_type": "markdown",
   "source": [
    "## Population functions\n",
    "- ``init_population``: function that creates the population. An individual is a tuple with a ``length`` elemento long array of zero or one and the fitness of this array. \n",
    "- ``gen_new_population``: function that, given the population, returns a new population with the addition of some individual created with ``mutation`` or ``xover``. When we add the individual to the population, we calculate its fitness\n",
    "- ``select_parent``: function that returns the champion out of the population. We first take the better half of the population, then we randomly choose half of these individuals, and then we take the best.\n",
    "- ``replacement``: function that joins the initial population and the new population to select the best ``POPULATION_SIZE`` individuals"
   ],
   "metadata": {
    "collapsed": false
   }
  },
  {
   "cell_type": "code",
   "execution_count": 22,
   "metadata": {
    "ExecuteTime": {
     "end_time": "2023-12-06T20:52:08.917840800Z",
     "start_time": "2023-12-06T20:52:08.862315300Z"
    }
   },
   "outputs": [],
   "source": [
    "def init_population(n_individual,length,fitness):\n",
    "    pop = []\n",
    "    for _ in range(n_individual):\n",
    "        ind = (choices([0, 1], k=length))\n",
    "        pop.append((ind,fitness(ind)))\n",
    "    return pop\n",
    "\n",
    "def gen_new_population(offspring_size,mutation_prob,old_population,fitness):\n",
    "    new_individual = []\n",
    "    for _ in range(offspring_size):\n",
    "        if random.random() < mutation_prob:\n",
    "            old_ind = select_parent(old_population)\n",
    "            tmp = mutation(old_ind)\n",
    "        else:\n",
    "            old_ind = select_parent(old_population)\n",
    "            old_ind_2 = select_parent(old_population)\n",
    "            tmp = one_cut_xover(old_ind,old_ind_2)\n",
    "        new_individual.append((tmp,fitness(tmp)))\n",
    "    return new_individual\n",
    "\n",
    "def select_parent(population):\n",
    "    best_parents = sorted(population,key= lambda i:i[1],reverse=True)[:int(len(population)/2)]\n",
    "    pool = [choice(best_parents) for _ in range(int(len(population)/4))]\n",
    "    champion = max(pool, key=lambda i: i[1])\n",
    "    return champion\n",
    "\n",
    "def replacement(new_pop,old_pop):\n",
    "    tmp_pop = new_pop + old_pop\n",
    "    sorted_pop = sorted(tmp_pop,key= lambda i:i[1],reverse=True)\n",
    "    return sorted_pop[:len(old_pop)]"
   ]
  },
  {
   "cell_type": "markdown",
   "source": [
    "## Problem parameters\n",
    "- ``POPULATION_SIZE``: number of individuals in the population\n",
    "- ``OFFSPRING_SIZE``: number of new individuals created by the ``gen_new_population`` function\n",
    "- ``LENGTH_INDV``: how many numbers does an individual have\n",
    "- ``GENERATION``: number of generations of population to create\n",
    "- ``MUTATION_PROBABILITY``: probability to do mutation instead of crossover"
   ],
   "metadata": {
    "collapsed": false
   }
  },
  {
   "cell_type": "code",
   "execution_count": 23,
   "outputs": [],
   "source": [
    "POPULATION_SIZE = 500\n",
    "OFFSPRING_SIZE = 500\n",
    "LENGTH_INDV = 1000\n",
    "GENERATION = 500\n",
    "MUTATION_PROBABILITY = 0.1\n",
    "\n",
    "problem_size = [1,2,5,10]"
   ],
   "metadata": {
    "collapsed": false,
    "ExecuteTime": {
     "end_time": "2023-12-06T20:52:08.917840800Z",
     "start_time": "2023-12-06T20:52:08.875583600Z"
    }
   }
  },
  {
   "cell_type": "code",
   "execution_count": 24,
   "metadata": {
    "ExecuteTime": {
     "end_time": "2023-12-06T20:55:09.074152100Z",
     "start_time": "2023-12-06T20:52:08.875583600Z"
    }
   },
   "outputs": [
    {
     "name": "stdout",
     "output_type": "stream",
     "text": [
      "Problem size: 1\n",
      "Best fitness: 1.0\n",
      "Fitness calls: 160500\n",
      "Generation: 319\n",
      "Population size: 500\n",
      "Problem size: 2\n",
      "Best fitness: 0.896\n",
      "Fitness calls: 238000\n",
      "Generation: 474\n",
      "Population size: 500\n",
      "Problem size: 5\n",
      "Best fitness: 0.465\n",
      "Fitness calls: 179000\n",
      "Generation: 356\n",
      "Population size: 500\n",
      "Problem size: 10\n",
      "Best fitness: 0.2719\n",
      "Fitness calls: 248500\n",
      "Generation: 495\n",
      "Population size: 500\n"
     ]
    }
   ],
   "source": [
    "for ps in problem_size:\n",
    "    fit = lab3_lib.make_problem(ps)\n",
    "    pop = init_population(POPULATION_SIZE,LENGTH_INDV,fit)\n",
    "    best = 0\n",
    "    n_calls = 0\n",
    "    gen = 0\n",
    "    for g in range(GENERATION):\n",
    "        new_pop = gen_new_population(OFFSPRING_SIZE,0.1,pop,fit)\n",
    "        pop = replacement(new_pop,pop)\n",
    "        if pop[0][1] > best:\n",
    "            best = pop[0][1]\n",
    "            n_calls = fit.calls\n",
    "            gen = g\n",
    "    print(f\"Problem size: {ps}\")\n",
    "    print(f\"Best fitness: {best}\")\n",
    "    print(f\"Fitness calls: {n_calls}\")\n",
    "    print(f\"Generation: {gen}\")\n",
    "    print(f\"Population size: {POPULATION_SIZE}\")"
   ]
  }
 ],
 "metadata": {
  "kernelspec": {
   "display_name": "ci-fLJ3OwGs-py3.12",
   "language": "python",
   "name": "python3"
  },
  "language_info": {
   "codemirror_mode": {
    "name": "ipython",
    "version": 3
   },
   "file_extension": ".py",
   "mimetype": "text/x-python",
   "name": "python",
   "nbconvert_exporter": "python",
   "pygments_lexer": "ipython3",
   "version": "3.11.6"
  }
 },
 "nbformat": 4,
 "nbformat_minor": 2
}
